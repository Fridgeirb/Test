{
  "nbformat": 4,
  "nbformat_minor": 0,
  "metadata": {
    "colab": {
      "name": "Untitled0.ipynb",
      "version": "0.3.2",
      "provenance": [],
      "include_colab_link": true
    },
    "kernelspec": {
      "name": "python3",
      "display_name": "Python 3"
    }
  },
  "cells": [
    {
      "cell_type": "markdown",
      "metadata": {
        "id": "view-in-github",
        "colab_type": "text"
      },
      "source": [
        "<a href=\"https://colab.research.google.com/github/Fridgeirb/Test/blob/master/Untitled0.ipynb\" target=\"_parent\"><img src=\"https://colab.research.google.com/assets/colab-badge.svg\" alt=\"Open In Colab\"/></a>"
      ]
    },
    {
      "cell_type": "markdown",
      "metadata": {
        "id": "7oqpMGcqGky-",
        "colab_type": "text"
      },
      "source": [
        "sdfsdfsdf"
      ]
    },
    {
      "cell_type": "code",
      "metadata": {
        "id": "E_f41jqNGCSO",
        "colab_type": "code",
        "colab": {
          "base_uri": "https://localhost:8080/",
          "height": 35
        },
        "outputId": "5ac238a8-47cd-46a6-f704-ee7d4e77e265"
      },
      "source": [
        "print(\"HÆ\")\n",
        "x = 10"
      ],
      "execution_count": 16,
      "outputs": [
        {
          "output_type": "stream",
          "text": [
            "HÆ\n"
          ],
          "name": "stdout"
        }
      ]
    },
    {
      "cell_type": "code",
      "metadata": {
        "id": "hjC38u7OGFwB",
        "colab_type": "code",
        "colab": {
          "base_uri": "https://localhost:8080/",
          "height": 35
        },
        "outputId": "c3fb8351-60f5-4556-f0d7-d388aaa6ad45"
      },
      "source": [
        "print(x)"
      ],
      "execution_count": 17,
      "outputs": [
        {
          "output_type": "stream",
          "text": [
            "10\n"
          ],
          "name": "stdout"
        }
      ]
    },
    {
      "cell_type": "markdown",
      "metadata": {
        "id": "AKmhtFqhHOhH",
        "colab_type": "text"
      },
      "source": [
        "Training a NN to identify hand-written digits\n"
      ]
    },
    {
      "cell_type": "code",
      "metadata": {
        "id": "5nPRi8ZIHaTY",
        "colab_type": "code",
        "colab": {
          "base_uri": "https://localhost:8080/",
          "height": 35
        },
        "outputId": "454ec83b-c53f-489c-c589-2f8202c9f9fc"
      },
      "source": [
        "#\n",
        "# Training a NN for MNIST dataset.\n",
        "#\n",
        "# Using:\n",
        "#    Keras\n",
        "#    Tensor flow\n",
        "#    NumPy\n",
        "#\n",
        "\n",
        "import keras\n",
        "from keras.datasets import mnist\n",
        "\n",
        "(x_train, y_train), (x_test,y_test) = mnist.load_data()\n",
        "print(x_train.shape, y_train.shape)"
      ],
      "execution_count": 18,
      "outputs": [
        {
          "output_type": "stream",
          "text": [
            "(60000, 28, 28) (60000,)\n"
          ],
          "name": "stdout"
        }
      ]
    },
    {
      "cell_type": "code",
      "metadata": {
        "id": "wJ9_LLStJucr",
        "colab_type": "code",
        "colab": {
          "base_uri": "https://localhost:8080/",
          "height": 69
        },
        "outputId": "c33bef4c-e6d2-489d-f784-28738d72f9ac"
      },
      "source": [
        "#\n",
        "# Reformatting the input and output to fit the input/output layers of my NN.\n",
        "#\n",
        "\n",
        "x_train = x_train.reshape(60000, 784)\n",
        "# print(x_train.shape)\n",
        "x_test = x_test.reshape(10000, 784)\n",
        "x_train = x_train.astype('float32')\n",
        "x_test = x_test.astype('float32') # int to float\n",
        "x_train /= 255 # Normilaze\n",
        "x_test /= 255\n",
        "\n",
        "num_classes = 10 # number of outputs\n",
        "print(y_train[0])\n",
        "y_train = keras.utils.to_categorical(y_train, num_classes) # output from one number to 0-9\n",
        "print(y_train[0])\n",
        "y_test = keras.utils.to_categorical(y_test, num_classes) # output from one number to 0-9"
      ],
      "execution_count": 19,
      "outputs": [
        {
          "output_type": "stream",
          "text": [
            "(60000, 784)\n",
            "5\n",
            "[0. 0. 0. 0. 0. 1. 0. 0. 0. 0.]\n"
          ],
          "name": "stdout"
        }
      ]
    },
    {
      "cell_type": "code",
      "metadata": {
        "id": "rl4lhO13OyVn",
        "colab_type": "code",
        "colab": {
          "base_uri": "https://localhost:8080/",
          "height": 607
        },
        "outputId": "df2181ef-1008-4b3f-e1ef-2e2a2618e65b"
      },
      "source": [
        "# Create the NN model\n",
        "\n",
        "from keras.models import Sequential\n",
        "from keras.layers import Dense\n",
        "from keras.optimizers import RMSprop\n",
        "\n",
        "model = Sequential()\n",
        "model.add(Dense(512, activation='relu',input_shape=(784,)))\n",
        "model.add(Dense(num_classes, activation='softmax'))\n",
        "model.summary()\n",
        "model.compile(loss='categorical_crossentropy', \n",
        "              optimizer=RMSprop(), \n",
        "              metrics=['accuracy'])\n",
        "history = model.fit(x_train,y_train,\n",
        "                    batch_size=128,\n",
        "                   epochs=10,\n",
        "                   verbose=1,\n",
        "                   validation_data=(x_test,y_test))\n",
        "score = model.evaluate(x_test, y_test, verbose=0)\n",
        "print('Test loss:', score[0])\n",
        "print('Test accuracy:', score[1])\n"
      ],
      "execution_count": 31,
      "outputs": [
        {
          "output_type": "stream",
          "text": [
            "_________________________________________________________________\n",
            "Layer (type)                 Output Shape              Param #   \n",
            "=================================================================\n",
            "dense_11 (Dense)             (None, 512)               401920    \n",
            "_________________________________________________________________\n",
            "dense_12 (Dense)             (None, 10)                5130      \n",
            "=================================================================\n",
            "Total params: 407,050\n",
            "Trainable params: 407,050\n",
            "Non-trainable params: 0\n",
            "_________________________________________________________________\n",
            "Train on 60000 samples, validate on 10000 samples\n",
            "Epoch 1/10\n",
            "60000/60000 [==============================] - 6s 92us/step - loss: 0.2568 - acc: 0.9254 - val_loss: 0.1291 - val_acc: 0.9615\n",
            "Epoch 2/10\n",
            "60000/60000 [==============================] - 6s 100us/step - loss: 0.1037 - acc: 0.9696 - val_loss: 0.0874 - val_acc: 0.9739\n",
            "Epoch 3/10\n",
            "60000/60000 [==============================] - 6s 97us/step - loss: 0.0674 - acc: 0.9799 - val_loss: 0.0783 - val_acc: 0.9762\n",
            "Epoch 4/10\n",
            "60000/60000 [==============================] - 5s 85us/step - loss: 0.0491 - acc: 0.9852 - val_loss: 0.0736 - val_acc: 0.9787\n",
            "Epoch 5/10\n",
            "60000/60000 [==============================] - 6s 93us/step - loss: 0.0370 - acc: 0.9892 - val_loss: 0.0707 - val_acc: 0.9801\n",
            "Epoch 6/10\n",
            "60000/60000 [==============================] - 6s 98us/step - loss: 0.0280 - acc: 0.9917 - val_loss: 0.0645 - val_acc: 0.9800\n",
            "Epoch 7/10\n",
            "60000/60000 [==============================] - 5s 83us/step - loss: 0.0216 - acc: 0.9936 - val_loss: 0.0715 - val_acc: 0.9799\n",
            "Epoch 8/10\n",
            "60000/60000 [==============================] - 5s 84us/step - loss: 0.0167 - acc: 0.9952 - val_loss: 0.0733 - val_acc: 0.9792\n",
            "Epoch 9/10\n",
            "60000/60000 [==============================] - 5s 85us/step - loss: 0.0125 - acc: 0.9962 - val_loss: 0.0671 - val_acc: 0.9826\n",
            "Epoch 10/10\n",
            "60000/60000 [==============================] - 6s 101us/step - loss: 0.0095 - acc: 0.9974 - val_loss: 0.0820 - val_acc: 0.9790\n",
            "Test loss: 0.08199594624290549\n",
            "Test accuracy: 0.979\n"
          ],
          "name": "stdout"
        }
      ]
    },
    {
      "cell_type": "code",
      "metadata": {
        "id": "KLX3TkygIyaK",
        "colab_type": "code",
        "colab": {}
      },
      "source": [
        ""
      ],
      "execution_count": 0,
      "outputs": []
    }
  ]
}